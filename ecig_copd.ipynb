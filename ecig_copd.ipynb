{
 "cells": [
  {
   "cell_type": "markdown",
   "metadata": {},
   "source": [
    "# E-Cigarette Usage and Chronic Obstructive Pulmonary Disease\n"
   ]
  },
  {
   "cell_type": "markdown",
   "metadata": {},
   "source": [
    "E-cigarettes1, or vapes, are a product that allows users to inhale an aerosol possibly containing nicotine, marijuana or other flavorings, similar to a cigarette. They were originally developed as a healthier alternative to cigarettes for those addicted to nicotine, but have taken off across the country as a popular way to smoke. As a result of this, many have raised concern over possible health detriments that smoking e-cigarettes could produce. One area of concern is that e-cigarette use has been increasing drastically among teens2. There are a number of factors that contribute to the popularity of e-cigarettes; they have a range of flavors, including many that appeal greatly to teens, and many are easily disguised as USB flash drives or pens. As a result, according to the CDC3, over 3.6 million youth used e-cigarettes in 2018.\n",
    "E-cigarettes are considered to be a benefit to smokers, but they present a number of known and unknown health risks1. Vaping has been linked to major lung injury in a number of cases. As of October 8, 2019, 1,299 cases of vaping-induced lung injury have been reported to the CDC, resulting in 26 deaths in 21 states. It is currently unknown what causes this outbreak of lung injury; what is known is that all patients reported the usage of e-cigarettes. Most of these patients also report using vaping products containing THC, but as many also used products containing nicotine it is hard to say what may be responsible. These lung injuries are currently known as “E-cigarette and Vaping Associated Lung Injury,” or EVALI. \n",
    "Chronic obstructive pulmonary disease is a term for a number of progressive lung diseases such as emphysema, chronic bronchitis, and refractory asthma. This disease is characterized by difficulty breathing and is incurable, though it can be managed. Over time it can cause damage to your lungs. Common causes of COPD including inhaling pollutants, such as tobacco smoke, or fumes from work environments or at home, such as asbestos, in addition to genetics.6 The number-one cause of COPD is smoking.6\n",
    "Preliminary studies have shown evidence that links e-cigarette usage to chronic obstructive pulmonary disease, or COPD. A study presented before the American Thoracic Society meeting showed that e-cigarette users were about twice as likely to have COPD as non-e-cigarette users, using data from the Adult 2013-2014 Population Assessment of Tobacco and Health (PATH).7 \n",
    "Our project will focus on the two topics of usage of e-cigarettes and the number of people who have chronic pulmonary disease nationwide from 2016-2018. We’ll utilize six datasets: The NHIS surveys of e-cigarette usage in the years 2016-2018 (specifically with the survey question4: “Have you ever used an E-cigarette or other electronic vaping product even just one time in your entire life”), as well as the three datasets ranging from 2016-2018 pertaining to chronic obstructive pulmonary disease. The datasets will be analyzed using cross-tabulation, in which a confidence interval, standard error, and wald chi-square values will be produced to support the research of the project. The percentage of users that ever smoked a vape or e-cigarette and had chronic pulmonary disease and such will also be calculated. \n",
    "In terms of functionality, the end project will allow the user to input whether or not they have smoked an e-cigarette before. Based on the statistics the analysis of the two previously stated datasets will provide, the probability of the user eventually getting chronic pulmonary disease will then be displayed. The program that will display these figures will need to be able to sift through thousands of points of data and present the statistics that will help with finding any link between e-cigarette usage and chronic obstructive pulmonary disease. \n",
    "We will represent our data with bar charts, pie charts, and a linear regression graph. Both bar and pie charts will display the percentage of total users that have smoked an e-cigarette compared to those that also had chronic pulmonary disease. The linear regression graph will show the relationship between users who smoked e-cigarettes compared to those that had chronic pulmonary disease. Further graphics, such as different-colored stick figures, could also be utilized to show the percentage of those that smoke e-cigarettes and the probability of that group having chronic obstructive pulmonary disease. Any significant statistics, such as the wald chi-square value, will also be displayed in addition to the graphs. \n",
    "The ethical considerations to keep in mind is that with whatever result the data shows, the graphic representation of that data could be highly influential. Since the evaluation of datasets is not commonplace, this representation may showcase a trend that others will believe in its entirety. Therefore, we must represent the data as accurately as possible, avoiding the mistake of a false correlation, as that could spark additional controversy on an already controversial topic. This topic is relatively new in history and the public is still unaware of the full health-associated risks with vaping and e-cigarette use. It is also an ethical responsibility to avoid making overstatements about the datasets in mind. Observations and results must be carefully considered and reasoned logically before finalizing the results. \n",
    "The team will meet either in person/online every Friday evening, typically around 5 pm. When meeting in person, we will be meeting on the first floor of Curry, in front of Pop-eyes. We will go over the next steps in accomplishing this project, and then evenly distribute the workload for every team member. Each team member is responsible for completing their work by the team designated deadlines, in which each team member will peer-review everyone’s work. When combining everyone’s work, each team member will review the work for idea flow, voice, and grammar. \n"
   ]
  }
 ],
 "metadata": {
  "kernelspec": {
   "display_name": "Python 3",
   "language": "python",
   "name": "python3"
  },
  "language_info": {
   "codemirror_mode": {
    "name": "ipython",
    "version": 3
   },
   "file_extension": ".py",
   "mimetype": "text/x-python",
   "name": "python",
   "nbconvert_exporter": "python",
   "pygments_lexer": "ipython3",
   "version": "3.7.3"
  }
 },
 "nbformat": 4,
 "nbformat_minor": 2
}
